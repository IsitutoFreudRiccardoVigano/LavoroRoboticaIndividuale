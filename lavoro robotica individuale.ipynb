{
 "cells": [
  {
   "cell_type": "markdown",
   "id": "7fba64c1",
   "metadata": {},
   "source": [
    "# Cosa faremo oggi?"
   ]
  },
  {
   "cell_type": "markdown",
   "id": "d378f61f",
   "metadata": {},
   "source": [
    "# Analisi delle Strutture Dati in Python\n",
    "Oggi andremo ad analizzare i vari tipi di strutture che abbiamo studiato quest'anno su Python, quelle che andremo ad analizzare tramite degli esempi di codice sono:\n",
    "\n",
    "**Concetti chiave:**\n",
    "\n",
    "- **Liste (Lists):** Sequenze ordinate e mutabili di elementi.\n",
    "- **Tuple:** Sequenze ordinate e immutabili di elementi.\n",
    "- **Dizionari (Dictionaries):** Raccolta non ordinata di coppie chiave-valore.\n",
    "- **Insiemi (Sets):** Collezioni non ordinate e non duplicate di elementi.\n",
    "- **Stringhe (Strings):** Sequenze di caratteri, immutabili.\n",
    "- **Numeri (Numbers):** Intero, Decimale.\n",
    "- **Booleani (Booleans):** Valori di verità, True o False.\n",
    "- **None:** Tipo di dato che rappresenta l'assenza di un valore, spesso usato per indicare il nulla.\n",
    "\n",
    "\n",
    "Di seguito troverai esempi di codice per ciascuna di queste strutture, dimostrando come possono essere utilizzate in scenari pratici.\n"
   ]
  },
  {
   "cell_type": "markdown",
   "id": "7b44ba23",
   "metadata": {},
   "source": [
    "# Numeri"
   ]
  },
  {
   "cell_type": "markdown",
   "id": "2ed76bed",
   "metadata": {},
   "source": [
    "**Numeri (Numbers):**\n",
    "\n",
    "In Python, i numeri rappresentano un concetto fondamentale e possono essere di diversi tipi, ognuno con le proprie caratteristiche e funzionalità. I principali tipi di numeri inclusi in Python sono:\n",
    "\n",
    "- **Intero (int):** Questo tipo di dato rappresenta numeri interi, positivi o negativi, senza parte decimale. Gli interi sono utilizzati per rappresentare quantità intere senza frazioni.\n",
    "  \n",
    "- **Decimale (float):** I numeri decimali in Python sono rappresentati dal tipo di dato float. Questi numeri possono avere una parte intera e una parte frazionaria, separata da un punto decimale. Sono utilizzati per rappresentare numeri reali approssimati.\n",
    "  \n",
    "Questa sezione esplorerà in dettaglio ciascuno di questi tipi di numeri, illustrando come possono essere utilizzati e manipolati all'interno del linguaggio Python.\n"
   ]
  },
  {
   "cell_type": "markdown",
   "id": "ec8a8239",
   "metadata": {},
   "source": [
    "# Numeri Interi"
   ]
  },
  {
   "cell_type": "markdown",
   "id": "60d209a1",
   "metadata": {},
   "source": [
    "## Somma di numeri interi"
   ]
  },
  {
   "cell_type": "code",
   "execution_count": 1,
   "id": "28390e65",
   "metadata": {},
   "outputs": [
    {
     "name": "stdout",
     "output_type": "stream",
     "text": [
      "Inserisci il primo numero intero: 6\n",
      "Inserisci il secondo numero intero: 3\n",
      "La somma di 6 e 3 è: 9\n"
     ]
    }
   ],
   "source": [
    "a = int(input(\"Inserisci il primo numero intero: \"))\n",
    "b = int(input(\"Inserisci il secondo numero intero: \"))\n",
    "sum_result = a + b\n",
    "print(\"La somma di\", a, \"e\", b, \"è:\", sum_result)\n"
   ]
  },
  {
   "cell_type": "markdown",
   "id": "f12cac3e",
   "metadata": {},
   "source": [
    "## Differenza fra 2 numeri interi"
   ]
  },
  {
   "cell_type": "code",
   "execution_count": 2,
   "id": "7ea41916",
   "metadata": {},
   "outputs": [
    {
     "name": "stdout",
     "output_type": "stream",
     "text": [
      "La differenza tra 6 e 3 è: 3\n"
     ]
    }
   ],
   "source": [
    "difference = a - b\n",
    "print(\"La differenza tra\", a, \"e\", b, \"è:\", difference)\n"
   ]
  },
  {
   "cell_type": "markdown",
   "id": "986df198",
   "metadata": {},
   "source": [
    "## Moltiplicazione fra 2 numeri interi"
   ]
  },
  {
   "cell_type": "code",
   "execution_count": 3,
   "id": "97923710",
   "metadata": {},
   "outputs": [
    {
     "name": "stdout",
     "output_type": "stream",
     "text": [
      "Il prodotto di 6 e 3 è: 18\n"
     ]
    }
   ],
   "source": [
    "product = a * b\n",
    "print(\"Il prodotto di\", a, \"e\", b, \"è:\", product)\n"
   ]
  },
  {
   "cell_type": "markdown",
   "id": "f1c52b47",
   "metadata": {},
   "source": [
    "## Divisone intera di 2 interi"
   ]
  },
  {
   "cell_type": "code",
   "execution_count": 4,
   "id": "8f9a7d58",
   "metadata": {},
   "outputs": [
    {
     "name": "stdout",
     "output_type": "stream",
     "text": [
      "La divisione intera di 6 e 3 è: 2\n"
     ]
    }
   ],
   "source": [
    "quotient = a // b\n",
    "print(\"La divisione intera di\", a, \"e\", b, \"è:\", quotient)\n"
   ]
  },
  {
   "cell_type": "markdown",
   "id": "371fc78e",
   "metadata": {},
   "source": [
    "## Resto della divisione di 2 interi"
   ]
  },
  {
   "cell_type": "code",
   "execution_count": 5,
   "id": "36d23b4d",
   "metadata": {},
   "outputs": [
    {
     "name": "stdout",
     "output_type": "stream",
     "text": [
      "Il resto della divisione di 6 per 3 è: 0\n"
     ]
    }
   ],
   "source": [
    "resto = a % b\n",
    "print(\"Il resto della divisione di\", a, \"per\", b, \"è:\", resto)\n"
   ]
  },
  {
   "cell_type": "markdown",
   "id": "aff495d0",
   "metadata": {},
   "source": [
    "## Potenza fra 2 interi"
   ]
  },
  {
   "cell_type": "code",
   "execution_count": 6,
   "id": "6257b2ea",
   "metadata": {},
   "outputs": [
    {
     "name": "stdout",
     "output_type": "stream",
     "text": [
      "6 elevato alla 3 è: 216\n"
     ]
    }
   ],
   "source": [
    "potenza = a ** b\n",
    "print(a, \"elevato alla\", b, \"è:\", potenza)\n"
   ]
  },
  {
   "cell_type": "markdown",
   "id": "a2c67165",
   "metadata": {},
   "source": [
    "## Convertitore numero decimale in intero"
   ]
  },
  {
   "cell_type": "code",
   "execution_count": 7,
   "id": "f63882af",
   "metadata": {},
   "outputs": [
    {
     "name": "stdout",
     "output_type": "stream",
     "text": [
      "Inserisci un numero decimale: 3.14\n",
      "Il float 3.14 convertito in intero è: 3\n"
     ]
    }
   ],
   "source": [
    "float_num = float(input(\"Inserisci un numero decimale: \"))\n",
    "int_num = int(float_num)\n",
    "print(\"Il float\", float_num, \"convertito in intero è:\", int_num)\n"
   ]
  },
  {
   "cell_type": "markdown",
   "id": "835b97cf",
   "metadata": {},
   "source": [
    "## Valore assoluto di un intero"
   ]
  },
  {
   "cell_type": "code",
   "execution_count": 9,
   "id": "8aae0a61",
   "metadata": {},
   "outputs": [
    {
     "name": "stdout",
     "output_type": "stream",
     "text": [
      "Inserisci un numero intero negativo: -45\n",
      "Il valore assoluto di -45 è: 45\n"
     ]
    }
   ],
   "source": [
    "negative_int = int(input(\"Inserisci un numero intero negativo: \"))\n",
    "absolute_value = abs(negative_int)\n",
    "print(\"Il valore assoluto di\", negative_int, \"è:\", absolute_value)\n"
   ]
  },
  {
   "cell_type": "markdown",
   "id": "12510399",
   "metadata": {},
   "source": [
    "## Massimo tra un insieme di interi"
   ]
  },
  {
   "cell_type": "code",
   "execution_count": 11,
   "id": "8b1490af",
   "metadata": {},
   "outputs": [
    {
     "name": "stdout",
     "output_type": "stream",
     "text": [
      "Quanti numeri vuoi inserire? 3\n",
      "Inserisci il numero 1: 3\n",
      "Inserisci il numero 2: 45\n",
      "Inserisci il numero 3: 64322\n",
      "Il massimo tra [3, 45, 64322] è: 64322\n"
     ]
    }
   ],
   "source": [
    "numbers = []\n",
    "num_count = int(input(\"Quanti numeri vuoi inserire? \"))\n",
    "for i in range(num_count):\n",
    "    num = int(input(f\"Inserisci il numero {i+1}: \"))\n",
    "    numbers.append(num)\n",
    "\n",
    "max_num = max(numbers)\n",
    "print(\"Il massimo tra\", numbers, \"è:\", max_num)\n"
   ]
  },
  {
   "cell_type": "markdown",
   "id": "ffcd5b22",
   "metadata": {},
   "source": [
    "## Minimo tra un insieme di numeri"
   ]
  },
  {
   "cell_type": "code",
   "execution_count": 12,
   "id": "f8cb9b11",
   "metadata": {},
   "outputs": [
    {
     "name": "stdout",
     "output_type": "stream",
     "text": [
      "Il minimo tra [3, 45, 64322] è: 3\n"
     ]
    }
   ],
   "source": [
    "min_num = min(numbers)\n",
    "print(\"Il minimo tra\", numbers, \"è:\", min_num)\n"
   ]
  },
  {
   "cell_type": "markdown",
   "id": "1f490a1f",
   "metadata": {},
   "source": [
    "## Numero di cifre di un intero"
   ]
  },
  {
   "cell_type": "code",
   "execution_count": 14,
   "id": "2f608853",
   "metadata": {},
   "outputs": [
    {
     "name": "stdout",
     "output_type": "stream",
     "text": [
      "Inserisci un numero intero: 4235626\n",
      "Il numero di cifre di 4235626 è: 7\n"
     ]
    }
   ],
   "source": [
    "num = int(input(\"Inserisci un numero intero: \"))\n",
    "length = len(str(num))\n",
    "print(\"Il numero di cifre di\", num, \"è:\", length)\n"
   ]
  },
  {
   "cell_type": "markdown",
   "id": "8fc047b2",
   "metadata": {},
   "source": [
    "## Incremento di un intero"
   ]
  },
  {
   "cell_type": "code",
   "execution_count": 15,
   "id": "85e689ad",
   "metadata": {},
   "outputs": [
    {
     "name": "stdout",
     "output_type": "stream",
     "text": [
      "Inserisci un numero intero: 432\n",
      "inserisci di quanto vuoi incrementare il numero: 8\n",
      "Dopo l'incremento, a diventa: 440\n"
     ]
    }
   ],
   "source": [
    "a = int(input(\"Inserisci un numero intero: \"))\n",
    "a += int(input(\"inserisci di quanto vuoi incrementare il numero: \"))\n",
    "print(\"Dopo l'incremento, a diventa:\", a)\n"
   ]
  },
  {
   "cell_type": "markdown",
   "id": "26eec343",
   "metadata": {},
   "source": [
    "## Decremento di un  intero"
   ]
  },
  {
   "cell_type": "code",
   "execution_count": 16,
   "id": "e1bf16c8",
   "metadata": {},
   "outputs": [
    {
     "name": "stdout",
     "output_type": "stream",
     "text": [
      "inserisci di quanto vuoi decrementare il numero: 40\n",
      "Dopo il decremento, a diventa: 400\n"
     ]
    }
   ],
   "source": [
    "a -= int(input(\"inserisci di quanto vuoi decrementare il numero: \"))\n",
    "print(\"Dopo il decremento, a diventa:\", a)\n"
   ]
  },
  {
   "cell_type": "markdown",
   "id": "91f444a5",
   "metadata": {},
   "source": [
    "## Verifica numero pari o dispari"
   ]
  },
  {
   "cell_type": "code",
   "execution_count": 17,
   "id": "f6aff9d9",
   "metadata": {},
   "outputs": [
    {
     "name": "stdout",
     "output_type": "stream",
     "text": [
      "Inserisci un numero intero: 352\n",
      "352 è un numero pari.\n"
     ]
    }
   ],
   "source": [
    "num = int(input(\"Inserisci un numero intero: \"))\n",
    "if num % 2 == 0:\n",
    "    print(num, \"è un numero pari.\")\n",
    "else:\n",
    "    print(num, \"è un numero dispari.\")\n"
   ]
  },
  {
   "cell_type": "markdown",
   "id": "29ea6644",
   "metadata": {},
   "source": [
    "## Indovina il Numero Intero"
   ]
  },
  {
   "cell_type": "code",
   "execution_count": 19,
   "id": "aacf9b66",
   "metadata": {},
   "outputs": [
    {
     "name": "stdout",
     "output_type": "stream",
     "text": [
      "Benvenuto a Indovina il Numero Intero!\n",
      "Il computer ha generato un numero intero compreso tra 1 e 100.\n",
      "Devi indovinare il numero con massimo 5 tentativi.\n",
      "\n",
      "Indovina il numero: 40\n",
      "Il numero da indovinare è più piccolo.\n",
      "\n",
      "Indovina il numero: 20\n",
      "Il numero da indovinare è più piccolo.\n",
      "\n",
      "Indovina il numero: 10\n",
      "Il numero da indovinare è più piccolo.\n",
      "\n",
      "Indovina il numero: 7\n",
      "Il numero da indovinare è più piccolo.\n",
      "\n",
      "Indovina il numero: 4\n",
      "Il numero da indovinare è più piccolo.\n",
      "\n",
      "Mi dispiace, hai esaurito tutti i tentativi. Il numero era: 1\n"
     ]
    }
   ],
   "source": [
    "import random\n",
    "\n",
    "def generate_random_number():\n",
    "    return random.randint(1, 100)\n",
    "\n",
    "def play_game():\n",
    "    target_number = generate_random_number()\n",
    "    attempts = 5\n",
    "\n",
    "    print(\"Benvenuto a Indovina il Numero Intero!\")\n",
    "    print(\"Il computer ha generato un numero intero compreso tra 1 e 100.\")\n",
    "    print(\"Devi indovinare il numero con massimo 5 tentativi.\")\n",
    "\n",
    "    while attempts > 0:\n",
    "        guess = int(input(\"\\nIndovina il numero: \"))\n",
    "        if guess == target_number:\n",
    "            print(\"Congratulazioni! Hai indovinato il numero:\", target_number)\n",
    "            break\n",
    "        elif guess < target_number:\n",
    "            print(\"Il numero da indovinare è più grande.\")\n",
    "        else:\n",
    "            print(\"Il numero da indovinare è più piccolo.\")\n",
    "        attempts -= 1\n",
    "\n",
    "    if attempts == 0:\n",
    "        print(\"\\nMi dispiace, hai esaurito tutti i tentativi. Il numero era:\", target_number)\n",
    "\n",
    "play_game()\n"
   ]
  },
  {
   "cell_type": "markdown",
   "id": "5c94a400",
   "metadata": {},
   "source": [
    "# Numeri Decimali"
   ]
  },
  {
   "cell_type": "markdown",
   "id": "0e3076aa",
   "metadata": {},
   "source": [
    "## Divisione fra 2 float e arrotondamento del risultato"
   ]
  },
  {
   "cell_type": "code",
   "execution_count": 21,
   "id": "4da966c9",
   "metadata": {},
   "outputs": [
    {
     "name": "stdout",
     "output_type": "stream",
     "text": [
      "Inserisci il primo numero float: 432.4\n",
      "Inserisci il secondo numero float: 334\n",
      "La divisione di 432.4 per 334.0 arrotondata è: 1.29\n"
     ]
    }
   ],
   "source": [
    "a = float(input(\"Inserisci il primo numero float: \"))\n",
    "b = float(input(\"Inserisci il secondo numero float: \"))\n",
    "division_result = a / b\n",
    "rounded_result = round(division_result, 2)  # Arrotondamento a due decimali\n",
    "print(\"La divisione di\", a, \"per\", b, \"arrotondata è:\", rounded_result)\n"
   ]
  },
  {
   "cell_type": "markdown",
   "id": "1c1e4447",
   "metadata": {},
   "source": [
    "## Radice quadrata di un float"
   ]
  },
  {
   "cell_type": "code",
   "execution_count": 23,
   "id": "565e7ec9",
   "metadata": {},
   "outputs": [
    {
     "name": "stdout",
     "output_type": "stream",
     "text": [
      "Inserisci un numero float: 45.345\n",
      "La radice quadrata di 45.345 è: 6.733869615607359\n"
     ]
    }
   ],
   "source": [
    "import math\n",
    "\n",
    "num = float(input(\"Inserisci un numero float: \"))\n",
    "sqrt_result = math.sqrt(num)\n",
    "print(\"La radice quadrata di\", num, \"è:\", sqrt_result)\n"
   ]
  },
  {
   "cell_type": "markdown",
   "id": "339f1f7d",
   "metadata": {},
   "source": [
    "## Arrotondamento di un float all'intero più grande"
   ]
  },
  {
   "cell_type": "code",
   "execution_count": 24,
   "id": "b235e68b",
   "metadata": {},
   "outputs": [
    {
     "name": "stdout",
     "output_type": "stream",
     "text": [
      "Inserisci un numero float: 3542.5\n",
      "L'intero più grande di 3542.5 è: 3543\n"
     ]
    }
   ],
   "source": [
    "ceil_num = float(input(\"Inserisci un numero float: \"))\n",
    "ceil_result = math.ceil(ceil_num)\n",
    "print(\"L'intero più grande di\", ceil_num, \"è:\", ceil_result)\n"
   ]
  },
  {
   "cell_type": "markdown",
   "id": "1cf45c89",
   "metadata": {},
   "source": [
    "## Arrotondamento di un float all'intero più piccolo"
   ]
  },
  {
   "cell_type": "code",
   "execution_count": 25,
   "id": "d637f4a0",
   "metadata": {},
   "outputs": [
    {
     "name": "stdout",
     "output_type": "stream",
     "text": [
      "L'intero più piccolo di 3542.5 è: 3542\n"
     ]
    }
   ],
   "source": [
    "floor_result = math.floor(ceil_num)\n",
    "print(\"L'intero più piccolo di\", ceil_num, \"è:\", floor_result)\n"
   ]
  },
  {
   "cell_type": "markdown",
   "id": "137b5793",
   "metadata": {},
   "source": [
    "## Troncamento di un float all'intero più vicino"
   ]
  },
  {
   "cell_type": "code",
   "execution_count": 26,
   "id": "d5d2473b",
   "metadata": {},
   "outputs": [
    {
     "name": "stdout",
     "output_type": "stream",
     "text": [
      "L'intero più vicino a 3542.5 è: 3542\n"
     ]
    }
   ],
   "source": [
    "round_result = round(ceil_num)\n",
    "print(\"L'intero più vicino a\", ceil_num, \"è:\", round_result)\n"
   ]
  },
  {
   "cell_type": "markdown",
   "id": "b8972452",
   "metadata": {},
   "source": [
    "## Verifica se un nuemero float è intero o no"
   ]
  },
  {
   "cell_type": "code",
   "execution_count": 27,
   "id": "14463a16",
   "metadata": {},
   "outputs": [
    {
     "name": "stdout",
     "output_type": "stream",
     "text": [
      "Inserisci un numero float: 423\n",
      "423.0 è un numero intero.\n"
     ]
    }
   ],
   "source": [
    "num = float(input(\"Inserisci un numero float: \"))\n",
    "if num.is_integer():\n",
    "    print(num, \"è un numero intero.\")\n",
    "else:\n",
    "    print(num, \"non è un numero intero.\")\n"
   ]
  },
  {
   "cell_type": "markdown",
   "id": "597b362b",
   "metadata": {},
   "source": [
    "## Calcolo della parte intera e della parte frazionaria di un float"
   ]
  },
  {
   "cell_type": "code",
   "execution_count": 29,
   "id": "55d12e71",
   "metadata": {},
   "outputs": [
    {
     "name": "stdout",
     "output_type": "stream",
     "text": [
      "Inserisci un numero float: 876.3457\n",
      "La parte intera di 876.3457 è: 876\n",
      "La parte frazionaria di 876.3457 è: 0.34569999999996526\n"
     ]
    }
   ],
   "source": [
    "num = float(input(\"Inserisci un numero float: \"))\n",
    "integer_part = int(num)\n",
    "fractional_part = num - integer_part\n",
    "print(\"La parte intera di\", num, \"è:\", integer_part)\n",
    "print(\"La parte frazionaria di\", num, \"è:\", fractional_part)\n"
   ]
  },
  {
   "cell_type": "markdown",
   "id": "2bb78bbd",
   "metadata": {},
   "source": [
    "## Confronto fra numeri float"
   ]
  },
  {
   "cell_type": "code",
   "execution_count": 30,
   "id": "ec9c78a5",
   "metadata": {},
   "outputs": [
    {
     "name": "stdout",
     "output_type": "stream",
     "text": [
      "Inserisci un numero float compreso tra 1 e 100: 8.65\n",
      "\n",
      "Il computer ha generato casualmente un numero float: 79.67\n",
      "Hai inserito il numero float: 8.65\n",
      "Mi dispiace, sei lontano dal numero generato dal computer.\n"
     ]
    }
   ],
   "source": [
    "import random\n",
    "\n",
    "def generate_random_float():\n",
    "    return round(random.uniform(1, 100), 2)\n",
    "\n",
    "def play_game():\n",
    "    target_float = generate_random_float()\n",
    "    player_float = float(input(\"Inserisci un numero float compreso tra 1 e 100: \"))\n",
    "\n",
    "    print(\"\\nIl computer ha generato casualmente un numero float:\", target_float)\n",
    "    print(\"Hai inserito il numero float:\", player_float)\n",
    "\n",
    "    difference = abs(target_float - player_float)\n",
    "    tolerance = 5.0  # Tolleranza ammessa per il gioco\n",
    "\n",
    "    if difference <= tolerance:\n",
    "        print(\"Congratulazioni! Sei molto vicino al numero generato dal computer.\")\n",
    "    else:\n",
    "        print(\"Mi dispiace, sei lontano dal numero generato dal computer.\")\n",
    "\n",
    "play_game()\n"
   ]
  },
  {
   "cell_type": "markdown",
   "id": "ed339a20",
   "metadata": {},
   "source": [
    "# Stringhe"
   ]
  },
  {
   "cell_type": "markdown",
   "id": "e114f1c1",
   "metadata": {},
   "source": [
    "*Stringhe (Strings):*\n",
    "\n",
    "In Python, le stringhe rappresentano sequenze di caratteri e sono fondamentali per lavorare con dati di testo. Le stringhe sono immutabili, il che significa che una volta create, non possono essere modificate. Possono essere create utilizzando virgolette singole (' '), virgolette doppie (\" \"), o triplo apice (''' ''' o \"\"\" \"\"\").\n",
    "\n",
    "Le stringhe supportano molte operazioni utili, come concatenazione, slicing, ricerca di sottostringhe, conteggio delle occorrenze di un carattere, conversione di maiuscole e minuscole e molte altre.\n",
    "\n",
    "Questa sezione esplorerà in dettaglio tutte queste funzionalità delle stringhe in Python e come possono essere utilizzate in varie situazioni di programmazione.\n"
   ]
  },
  {
   "cell_type": "markdown",
   "id": "55319331",
   "metadata": {},
   "source": [
    "## Concatenazione di stringhe"
   ]
  },
  {
   "cell_type": "code",
   "execution_count": 31,
   "id": "2dfa631e",
   "metadata": {},
   "outputs": [
    {
     "name": "stdout",
     "output_type": "stream",
     "text": [
      "Ciao Mondo\n"
     ]
    }
   ],
   "source": [
    "string1 = \"Ciao\"\n",
    "string2 = \"Mondo\"\n",
    "concatenated_string = string1 + \" \" + string2\n",
    "print(concatenated_string)\n"
   ]
  },
  {
   "cell_type": "markdown",
   "id": "9dc4ea57",
   "metadata": {},
   "source": [
    "## Accesso ai singoli caratteri di una stringa"
   ]
  },
  {
   "cell_type": "code",
   "execution_count": 32,
   "id": "e3a9ca58",
   "metadata": {},
   "outputs": [
    {
     "name": "stdout",
     "output_type": "stream",
     "text": [
      "Il primo carattere della stringa è: P\n"
     ]
    }
   ],
   "source": [
    "string = \"Python\"\n",
    "first_char = string[0]\n",
    "print(\"Il primo carattere della stringa è:\", first_char)\n"
   ]
  },
  {
   "cell_type": "markdown",
   "id": "92da3ac1",
   "metadata": {},
   "source": [
    "## Slicing di una stringa"
   ]
  },
  {
   "cell_type": "code",
   "execution_count": 33,
   "id": "10924929",
   "metadata": {},
   "outputs": [
    {
     "name": "stdout",
     "output_type": "stream",
     "text": [
      "La sottostringa ottenuta dallo slicing è: tho\n"
     ]
    }
   ],
   "source": [
    "string = \"Python\"\n",
    "substring = string[2:5]\n",
    "print(\"La sottostringa ottenuta dallo slicing è:\", substring)\n"
   ]
  },
  {
   "cell_type": "markdown",
   "id": "e9ff1f33",
   "metadata": {},
   "source": [
    "## Ricerca di una sottostringa in una stringa"
   ]
  },
  {
   "cell_type": "code",
   "execution_count": 34,
   "id": "8ffd6d00",
   "metadata": {},
   "outputs": [
    {
     "name": "stdout",
     "output_type": "stream",
     "text": [
      "La sottostringa è presente nella stringa.\n"
     ]
    }
   ],
   "source": [
    "string = \"Python programming\"\n",
    "substring = \"programming\"\n",
    "if substring in string:\n",
    "    print(\"La sottostringa è presente nella stringa.\")\n",
    "else:\n",
    "    print(\"La sottostringa non è presente nella stringa.\")\n"
   ]
  },
  {
   "cell_type": "markdown",
   "id": "8eaa471b",
   "metadata": {},
   "source": [
    "## Conversione di una stringa in MAIUSCOLO"
   ]
  },
  {
   "cell_type": "code",
   "execution_count": 35,
   "id": "069fd9c6",
   "metadata": {},
   "outputs": [
    {
     "name": "stdout",
     "output_type": "stream",
     "text": [
      "La stringa in maiuscolo è: PYTHON\n"
     ]
    }
   ],
   "source": [
    "string = \"python\"\n",
    "uppercase_string = string.upper()\n",
    "print(\"La stringa in maiuscolo è:\", uppercase_string)\n"
   ]
  },
  {
   "cell_type": "markdown",
   "id": "2ac2347b",
   "metadata": {},
   "source": [
    "## Conversione di una stringa in minuscolo"
   ]
  },
  {
   "cell_type": "code",
   "execution_count": 36,
   "id": "6f855d7e",
   "metadata": {},
   "outputs": [
    {
     "name": "stdout",
     "output_type": "stream",
     "text": [
      "La stringa in minuscolo è: python\n"
     ]
    }
   ],
   "source": [
    "string = \"PYTHON\"\n",
    "lowercase_string = string.lower()\n",
    "print(\"La stringa in minuscolo è:\", lowercase_string)\n"
   ]
  },
  {
   "cell_type": "markdown",
   "id": "68f181cb",
   "metadata": {},
   "source": [
    "## Conteggio di una lettera a piacere presente nella stringa"
   ]
  },
  {
   "cell_type": "code",
   "execution_count": 37,
   "id": "472a6a1f",
   "metadata": {},
   "outputs": [
    {
     "name": "stdout",
     "output_type": "stream",
     "text": [
      "Il numero di occorrenze del carattere 'a' nella stringa è: 3\n"
     ]
    }
   ],
   "source": [
    "string = \"banana\"\n",
    "char_count = string.count(\"a\")\n",
    "print(\"Il numero di occorrenze del carattere 'a' nella stringa è:\", char_count)\n"
   ]
  },
  {
   "cell_type": "markdown",
   "id": "2b5a2e9f",
   "metadata": {},
   "source": [
    "## Verifica se una stringa inizia con una determinata sottostringa"
   ]
  },
  {
   "cell_type": "code",
   "execution_count": 38,
   "id": "74c3855f",
   "metadata": {},
   "outputs": [
    {
     "name": "stdout",
     "output_type": "stream",
     "text": [
      "La stringa inizia con 'Python'.\n"
     ]
    }
   ],
   "source": [
    "string = \"Python is a powerful language\"\n",
    "if string.startswith(\"Python\"):\n",
    "    print(\"La stringa inizia con 'Python'.\")\n",
    "else:\n",
    "    print(\"La stringa non inizia con 'Python'.\")\n"
   ]
  },
  {
   "cell_type": "markdown",
   "id": "a014b474",
   "metadata": {},
   "source": [
    "## Verifica se una stringa termina con una determinata sottostringa"
   ]
  },
  {
   "cell_type": "code",
   "execution_count": 39,
   "id": "a4cf64b0",
   "metadata": {},
   "outputs": [
    {
     "name": "stdout",
     "output_type": "stream",
     "text": [
      "La stringa non termina con 'linguaggio'.\n"
     ]
    }
   ],
   "source": [
    "string = \"Python è un linguaggio potente\"\n",
    "if string.endswith(\"linguaggio\"):\n",
    "    print(\"La stringa termina con 'linguaggio'.\")\n",
    "else:\n",
    "    print(\"La stringa non termina con 'linguaggio'.\")\n"
   ]
  },
  {
   "cell_type": "markdown",
   "id": "2f807198",
   "metadata": {},
   "source": [
    "## Ripetizione di una stringa un certo numero di volte"
   ]
  },
  {
   "cell_type": "code",
   "execution_count": 40,
   "id": "3a4d3930",
   "metadata": {},
   "outputs": [
    {
     "name": "stdout",
     "output_type": "stream",
     "text": [
      "La stringa ripetuta tre volte è: hellohellohello\n"
     ]
    }
   ],
   "source": [
    "string = \"hello\"\n",
    "repeated_string = string * 3\n",
    "print(\"La stringa ripetuta tre volte è:\", repeated_string)\n"
   ]
  },
  {
   "cell_type": "markdown",
   "id": "605af4e7",
   "metadata": {},
   "source": [
    "## Indovina la Parola - Gioco delle Stringhe"
   ]
  },
  {
   "cell_type": "code",
   "execution_count": 41,
   "id": "c617bb41",
   "metadata": {},
   "outputs": [
    {
     "name": "stdout",
     "output_type": "stream",
     "text": [
      "Benvenuto a Indovina la Parola!\n",
      "La parola da indovinare ha 8 lettere.\n",
      "Puoi sbagliare al massimo 7 volte.\n",
      "\n",
      "Parola nascosta: ________\n",
      "Indovina una lettera: a\n",
      "Bravo! Hai indovinato una lettera!\n",
      "\n",
      "Parola nascosta: ____a__a\n",
      "Indovina una lettera: e\n",
      "La lettera non è presente nella parola. Hai ancora 6 tentativi.\n",
      "\n",
      "Parola nascosta: ____a__a\n",
      "Indovina una lettera: i\n",
      "La lettera non è presente nella parola. Hai ancora 5 tentativi.\n",
      "\n",
      "Parola nascosta: ____a__a\n",
      "Indovina una lettera: o\n",
      "Bravo! Hai indovinato una lettera!\n",
      "\n",
      "Parola nascosta: _o__a__a\n",
      "Indovina una lettera: u\n",
      "La lettera non è presente nella parola. Hai ancora 4 tentativi.\n",
      "\n",
      "Parola nascosta: _o__a__a\n",
      "Indovina una lettera: \n",
      "Bravo! Hai indovinato una lettera!\n",
      "\n",
      "Parola nascosta: _o__a__a\n",
      "Indovina una lettera: m\n",
      "Bravo! Hai indovinato una lettera!\n",
      "\n",
      "Parola nascosta: mo__a__a\n",
      "Indovina una lettera: n\n",
      "Bravo! Hai indovinato una lettera!\n",
      "\n",
      "Parola nascosta: mon_a_na\n",
      "Indovina una lettera: t\n",
      "Bravo! Hai indovinato una lettera!\n",
      "\n",
      "Parola nascosta: monta_na\n",
      "Indovina una lettera: g\n",
      "Bravo! Hai indovinato una lettera!\n",
      "Congratulazioni! Hai indovinato la parola: montagna\n"
     ]
    }
   ],
   "source": [
    "import random\n",
    "\n",
    "def pick_random_word():\n",
    "    words = [\"ciao\", \"sole\", \"mare\", \"montagna\", \"gelato\", \"cioccolato\", \"vacanza\"]\n",
    "    return random.choice(words)\n",
    "\n",
    "def hide_word(word):\n",
    "    hidden = \"\"\n",
    "    for letter in word:\n",
    "        if letter.isalpha():\n",
    "            hidden += \"_\"\n",
    "        else:\n",
    "            hidden += letter\n",
    "    return hidden\n",
    "\n",
    "def reveal_letter(word, hidden_word, letter):\n",
    "    revealed = \"\"\n",
    "    for i in range(len(word)):\n",
    "        if word[i] == letter:\n",
    "            revealed += letter\n",
    "        else:\n",
    "            revealed += hidden_word[i]\n",
    "    return revealed\n",
    "\n",
    "def play_game():\n",
    "    word_to_guess = pick_random_word()\n",
    "    guessed_letters = set()\n",
    "    attempts = 7\n",
    "    hidden_word = hide_word(word_to_guess)\n",
    "\n",
    "    print(\"Benvenuto a Indovina la Parola!\")\n",
    "    print(\"La parola da indovinare ha\", len(word_to_guess), \"lettere.\")\n",
    "    print(\"Puoi sbagliare al massimo\", attempts, \"volte.\")\n",
    "\n",
    "    while attempts > 0:\n",
    "        print(\"\\nParola nascosta:\", hidden_word)\n",
    "        guess = input(\"Indovina una lettera: \").lower()\n",
    "\n",
    "        if guess in guessed_letters:\n",
    "            print(\"Hai già provato questa lettera. Prova con un'altra.\")\n",
    "            continue\n",
    "\n",
    "        guessed_letters.add(guess)\n",
    "\n",
    "        if guess in word_to_guess:\n",
    "            print(\"Bravo! Hai indovinato una lettera!\")\n",
    "            hidden_word = reveal_letter(word_to_guess, hidden_word, guess)\n",
    "            if hidden_word == word_to_guess:\n",
    "                print(\"Congratulazioni! Hai indovinato la parola:\", word_to_guess)\n",
    "                break\n",
    "        else:\n",
    "            attempts -= 1\n",
    "            print(\"La lettera non è presente nella parola. Hai ancora\", attempts, \"tentativi.\")\n",
    "\n",
    "    if attempts == 0:\n",
    "        print(\"Mi dispiace, hai esaurito tutti i tentativi. La parola era:\", word_to_guess)\n",
    "\n",
    "play_game()\n"
   ]
  },
  {
   "cell_type": "markdown",
   "id": "4ca9d976",
   "metadata": {},
   "source": [
    "# Tuple"
   ]
  },
  {
   "cell_type": "markdown",
   "id": "587ba7ed",
   "metadata": {},
   "source": [
    "## Tuple in Python\n",
    "\n",
    "Le tuple sono una struttura dati in Python simili alle liste, ma sono immutabili, il che significa che una volta create, non possono essere modificate. Le tuple sono raccolte ordinate di elementi che possono essere di diversi tipi, come numeri, stringhe o altre tuple. \n",
    "\n",
    "Le tuple vengono definite utilizzando parentesi tonde `()` e gli elementi sono separati da virgole. Ad esempio:\n",
    "\n",
    "```python\n",
    "my_tuple = (1, 2, 3, 'a', 'b', 'c')\n"
   ]
  },
  {
   "cell_type": "markdown",
   "id": "179e9a8c",
   "metadata": {},
   "source": [
    "## Creazione di una tupla"
   ]
  },
  {
   "cell_type": "code",
   "execution_count": 42,
   "id": "5d2b1df6",
   "metadata": {},
   "outputs": [
    {
     "name": "stdout",
     "output_type": "stream",
     "text": [
      "(1, 2, 3, 'a', 'b', 'c')\n"
     ]
    }
   ],
   "source": [
    "my_tuple = (1, 2, 3, 'a', 'b', 'c')\n",
    "print(my_tuple)\n"
   ]
  },
  {
   "cell_type": "markdown",
   "id": "4c176167",
   "metadata": {},
   "source": [
    "## Accesso agli elementi di una tupla tramite indice"
   ]
  },
  {
   "cell_type": "code",
   "execution_count": 43,
   "id": "64dd9abc",
   "metadata": {},
   "outputs": [
    {
     "name": "stdout",
     "output_type": "stream",
     "text": [
      "Il terzo elemento della tupla è: 3\n"
     ]
    }
   ],
   "source": [
    "my_tuple = (1, 2, 3, 'a', 'b', 'c')\n",
    "print(\"Il terzo elemento della tupla è:\", my_tuple[2])\n"
   ]
  },
  {
   "cell_type": "markdown",
   "id": "52be03cf",
   "metadata": {},
   "source": [
    "## Concatenazione di tuple"
   ]
  },
  {
   "cell_type": "code",
   "execution_count": 44,
   "id": "06e02fed",
   "metadata": {},
   "outputs": [
    {
     "name": "stdout",
     "output_type": "stream",
     "text": [
      "(1, 2, 3, 'a', 'b', 'c')\n"
     ]
    }
   ],
   "source": [
    "tuple1 = (1, 2, 3)\n",
    "tuple2 = ('a', 'b', 'c')\n",
    "concatenated_tuple = tuple1 + tuple2\n",
    "print(concatenated_tuple)\n"
   ]
  },
  {
   "cell_type": "markdown",
   "id": "11cd0a2f",
   "metadata": {},
   "source": [
    "## Moltiplicazione di una tupla per un intero"
   ]
  },
  {
   "cell_type": "code",
   "execution_count": 45,
   "id": "f8f112b4",
   "metadata": {},
   "outputs": [
    {
     "name": "stdout",
     "output_type": "stream",
     "text": [
      "('a', 'b', 'a', 'b', 'a', 'b')\n"
     ]
    }
   ],
   "source": [
    "my_tuple = ('a', 'b')\n",
    "multiplied_tuple = my_tuple * 3\n",
    "print(multiplied_tuple)\n"
   ]
  },
  {
   "cell_type": "markdown",
   "id": "4a67da1d",
   "metadata": {},
   "source": [
    "## Verifica dell'appartenenza di un elemento alla tupla"
   ]
  },
  {
   "cell_type": "code",
   "execution_count": 46,
   "id": "c96fcd72",
   "metadata": {},
   "outputs": [
    {
     "name": "stdout",
     "output_type": "stream",
     "text": [
      "'a' è presente nella tupla? True\n"
     ]
    }
   ],
   "source": [
    "my_tuple = (1, 2, 3, 'a', 'b', 'c')\n",
    "print(\"'a' è presente nella tupla?\", 'a' in my_tuple)\n"
   ]
  },
  {
   "cell_type": "markdown",
   "id": "687d3f8c",
   "metadata": {},
   "source": [
    "## Conteggio di un elemento nella tupla"
   ]
  },
  {
   "cell_type": "code",
   "execution_count": 47,
   "id": "70077260",
   "metadata": {},
   "outputs": [
    {
     "name": "stdout",
     "output_type": "stream",
     "text": [
      "Il numero di occorrenze di 'a' nella tupla è: 2\n"
     ]
    }
   ],
   "source": [
    "my_tuple = (1, 2, 3, 'a', 'b', 'c', 'a')\n",
    "print(\"Il numero di occorrenze di 'a' nella tupla è:\", my_tuple.count('a'))\n"
   ]
  },
  {
   "cell_type": "markdown",
   "id": "540b8f21",
   "metadata": {},
   "source": [
    "## Ricerca dell'indice di un elemento nella tupla"
   ]
  },
  {
   "cell_type": "code",
   "execution_count": 48,
   "id": "6d2ee280",
   "metadata": {},
   "outputs": [
    {
     "name": "stdout",
     "output_type": "stream",
     "text": [
      "L'indice di 'a' nella tupla è: 3\n"
     ]
    }
   ],
   "source": [
    "my_tuple = (1, 2, 3, 'a', 'b', 'c')\n",
    "print(\"L'indice di 'a' nella tupla è:\", my_tuple.index('a'))\n"
   ]
  },
  {
   "cell_type": "markdown",
   "id": "c10f77bb",
   "metadata": {},
   "source": [
    "## Slicing di una tupla"
   ]
  },
  {
   "cell_type": "code",
   "execution_count": 49,
   "id": "403dd54f",
   "metadata": {},
   "outputs": [
    {
     "name": "stdout",
     "output_type": "stream",
     "text": [
      "La sotto-tupla ottenuta dallo slicing è: (3, 'a', 'b')\n"
     ]
    }
   ],
   "source": [
    "my_tuple = (1, 2, 3, 'a', 'b', 'c')\n",
    "sliced_tuple = my_tuple[2:5]\n",
    "print(\"La sotto-tupla ottenuta dallo slicing è:\", sliced_tuple)\n"
   ]
  },
  {
   "cell_type": "markdown",
   "id": "14ae336a",
   "metadata": {},
   "source": [
    "## Iterazione attraverso gli elementi di una tupla"
   ]
  },
  {
   "cell_type": "code",
   "execution_count": 50,
   "id": "81e37d91",
   "metadata": {},
   "outputs": [
    {
     "name": "stdout",
     "output_type": "stream",
     "text": [
      "apple\n",
      "banana\n",
      "cherry\n"
     ]
    }
   ],
   "source": [
    "my_tuple = ('apple', 'banana', 'cherry')\n",
    "for item in my_tuple:\n",
    "    print(item)\n"
   ]
  },
  {
   "cell_type": "markdown",
   "id": "8b391105",
   "metadata": {},
   "source": [
    "## Conversione di una lista in una tupla"
   ]
  },
  {
   "cell_type": "code",
   "execution_count": 51,
   "id": "4d80f96e",
   "metadata": {},
   "outputs": [
    {
     "name": "stdout",
     "output_type": "stream",
     "text": [
      "La lista convertita in tupla è: (1, 2, 3, 'a', 'b', 'c')\n"
     ]
    }
   ],
   "source": [
    "my_list = [1, 2, 3, 'a', 'b', 'c']\n",
    "converted_tuple = tuple(my_list)\n",
    "print(\"La lista convertita in tupla è:\", converted_tuple)\n"
   ]
  },
  {
   "cell_type": "markdown",
   "id": "5076c8fa",
   "metadata": {},
   "source": [
    "## Rimozione di una tupla da una lista di tuple"
   ]
  },
  {
   "cell_type": "code",
   "execution_count": 52,
   "id": "52314be3",
   "metadata": {},
   "outputs": [
    {
     "name": "stdout",
     "output_type": "stream",
     "text": [
      "La lista di tuple dopo la rimozione è: [(1, 2), (3, 4)]\n"
     ]
    }
   ],
   "source": [
    "list_of_tuples = [(1, 2), ('a', 'b'), (3, 4)]\n",
    "tuple_to_remove = ('a', 'b')\n",
    "list_of_tuples.remove(tuple_to_remove)\n",
    "print(\"La lista di tuple dopo la rimozione è:\", list_of_tuples)\n"
   ]
  },
  {
   "cell_type": "markdown",
   "id": "babed0b2",
   "metadata": {},
   "source": [
    "## Unione di tuple"
   ]
  },
  {
   "cell_type": "code",
   "execution_count": 53,
   "id": "ed373344",
   "metadata": {},
   "outputs": [
    {
     "name": "stdout",
     "output_type": "stream",
     "text": [
      "La tupla ottenuta dalla unione è: (1, 2, 'a', 'b')\n"
     ]
    }
   ],
   "source": [
    "tuple1 = (1, 2)\n",
    "tuple2 = ('a', 'b')\n",
    "union_tuple = tuple1 + tuple2\n",
    "print(\"La tupla ottenuta dalla unione è:\", union_tuple)\n"
   ]
  },
  {
   "cell_type": "code",
   "execution_count": 54,
   "id": "1971fe45",
   "metadata": {},
   "outputs": [
    {
     "name": "stdout",
     "output_type": "stream",
     "text": [
      "Benvenuto a Scopri l'Elemento Unico!\n",
      "Il computer ha generato casualmente una tupla di cinque numeri compresi tra 0 e 9.\n",
      "Devi indovinare quale numero appare una sola volta.\n",
      "\n",
      "Indovina l'elemento unico (0-9): 5\n",
      "Sbagliato! Prova di nuovo.\n",
      "\n",
      "Indovina l'elemento unico (0-9): 4\n",
      "\n",
      "Congratulazioni! Hai indovinato l'elemento unico: 4\n"
     ]
    }
   ],
   "source": [
    "import random\n",
    "\n",
    "def generate_random_tuple():\n",
    "    elements = [random.randint(0, 9) for _ in range(5)]\n",
    "    unique_element = random.choice(elements)\n",
    "    return tuple(elements), unique_element\n",
    "\n",
    "def get_valid_guess():\n",
    "    while True:\n",
    "        guess = input(\"\\nIndovina l'elemento unico (0-9): \")\n",
    "        if guess.isdigit() and 0 <= int(guess) <= 9:\n",
    "            return int(guess)\n",
    "        else:\n",
    "            print(\"Inserisci un numero intero compreso tra 0 e 9.\")\n",
    "\n",
    "def play_game():\n",
    "    elements_tuple, unique_element = generate_random_tuple()\n",
    "\n",
    "    print(\"Benvenuto a Scopri l'Elemento Unico!\")\n",
    "    print(\"Il computer ha generato casualmente una tupla di cinque numeri compresi tra 0 e 9.\")\n",
    "    print(\"Devi indovinare quale numero appare una sola volta.\")\n",
    "\n",
    "    guessed_element = None\n",
    "    while guessed_element != unique_element:\n",
    "        guess = get_valid_guess()\n",
    "        if guess == unique_element:\n",
    "            print(\"\\nCongratulazioni! Hai indovinato l'elemento unico:\", unique_element)\n",
    "            break  # Termina il gioco quando il giocatore indovina correttamente\n",
    "        else:\n",
    "            print(\"Sbagliato! Prova di nuovo.\")\n",
    "\n",
    "play_game()"
   ]
  },
  {
   "cell_type": "markdown",
   "id": "6cc52e6a",
   "metadata": {},
   "source": [
    "# Dizionari"
   ]
  },
  {
   "cell_type": "markdown",
   "id": "eea1d5f7",
   "metadata": {},
   "source": [
    "## Dizionari in Python\n",
    "\n",
    "I dizionari sono una struttura dati fondamentale in Python che permette di memorizzare collezioni di elementi, organizzati sotto forma di coppie chiave-valore. Ogni elemento all'interno di un dizionario è identificato da una chiave univoca, e ogni chiave è associata a un valore corrispondente.\n",
    "\n",
    "I dizionari sono definiti utilizzando parentesi graffe `{}`, e le coppie chiave-valore sono separate da virgole. Ad esempio:\n",
    "\n",
    "```python\n",
    "my_dict = {'nome': 'Alice', 'età': 30, 'città': 'Roma'}\n"
   ]
  },
  {
   "cell_type": "markdown",
   "id": "ac6d8fed",
   "metadata": {},
   "source": [
    "## Creazione di un dizionario con elementi"
   ]
  },
  {
   "cell_type": "code",
   "execution_count": 55,
   "id": "458c1e4e",
   "metadata": {},
   "outputs": [
    {
     "name": "stdout",
     "output_type": "stream",
     "text": [
      "{'nome': 'Alice', 'età': 30, 'città': 'Roma'}\n"
     ]
    }
   ],
   "source": [
    "my_dict = {'nome': 'Alice', 'età': 30, 'città': 'Roma'}\n",
    "print(my_dict)\n"
   ]
  },
  {
   "cell_type": "markdown",
   "id": "30abbf23",
   "metadata": {},
   "source": [
    "## Accesso ai valori tramite chiave"
   ]
  },
  {
   "cell_type": "code",
   "execution_count": 56,
   "id": "5c395f96",
   "metadata": {},
   "outputs": [
    {
     "name": "stdout",
     "output_type": "stream",
     "text": [
      "Il nome dell'utente è: Alice\n"
     ]
    }
   ],
   "source": [
    "my_dict = {'nome': 'Alice', 'età': 30, 'città': 'Roma'}\n",
    "print(\"Il nome dell'utente è:\", my_dict['nome'])\n"
   ]
  },
  {
   "cell_type": "markdown",
   "id": "e621ded6",
   "metadata": {},
   "source": [
    "## Aggiunta di nuove coppie chiave-valore"
   ]
  },
  {
   "cell_type": "code",
   "execution_count": 57,
   "id": "313b06a5",
   "metadata": {},
   "outputs": [
    {
     "name": "stdout",
     "output_type": "stream",
     "text": [
      "{'nome': 'Alice', 'età': 30, 'città': 'Roma'}\n"
     ]
    }
   ],
   "source": [
    "my_dict = {'nome': 'Alice', 'età': 30}\n",
    "my_dict['città'] = 'Roma'\n",
    "print(my_dict)\n"
   ]
  },
  {
   "cell_type": "markdown",
   "id": "1562dafe",
   "metadata": {},
   "source": [
    "## Rimozione di una coppia chiave-valore"
   ]
  },
  {
   "cell_type": "code",
   "execution_count": 58,
   "id": "19b2707c",
   "metadata": {},
   "outputs": [
    {
     "name": "stdout",
     "output_type": "stream",
     "text": [
      "{'nome': 'Alice', 'città': 'Roma'}\n"
     ]
    }
   ],
   "source": [
    "my_dict = {'nome': 'Alice', 'età': 30, 'città': 'Roma'}\n",
    "del my_dict['età']\n",
    "print(my_dict)\n"
   ]
  },
  {
   "cell_type": "markdown",
   "id": "e8ec63c1",
   "metadata": {},
   "source": [
    "## Verifica dell'esistenza di una chiave nel dizionario"
   ]
  },
  {
   "cell_type": "code",
   "execution_count": 59,
   "id": "7cec4755",
   "metadata": {},
   "outputs": [
    {
     "name": "stdout",
     "output_type": "stream",
     "text": [
      "La chiave 'nome' è presente nel dizionario? True\n"
     ]
    }
   ],
   "source": [
    "my_dict = {'nome': 'Alice', 'età': 30, 'città': 'Roma'}\n",
    "print(\"La chiave 'nome' è presente nel dizionario?\", 'nome' in my_dict)\n"
   ]
  },
  {
   "cell_type": "markdown",
   "id": "80a97ef6",
   "metadata": {},
   "source": [
    "## Stampa delle chiavi del dizionario"
   ]
  },
  {
   "cell_type": "code",
   "execution_count": 60,
   "id": "7e35ccdf",
   "metadata": {},
   "outputs": [
    {
     "name": "stdout",
     "output_type": "stream",
     "text": [
      "Le chiavi del dizionario sono: dict_keys(['nome', 'età', 'città'])\n"
     ]
    }
   ],
   "source": [
    "my_dict = {'nome': 'Alice', 'età': 30, 'città': 'Roma'}\n",
    "print(\"Le chiavi del dizionario sono:\", my_dict.keys())\n"
   ]
  },
  {
   "cell_type": "markdown",
   "id": "462891d7",
   "metadata": {},
   "source": [
    "## Stampa dei valori del dizionario"
   ]
  },
  {
   "cell_type": "code",
   "execution_count": 61,
   "id": "1b469af3",
   "metadata": {},
   "outputs": [
    {
     "name": "stdout",
     "output_type": "stream",
     "text": [
      "I valori del dizionario sono: dict_values(['Alice', 30, 'Roma'])\n"
     ]
    }
   ],
   "source": [
    "my_dict = {'nome': 'Alice', 'età': 30, 'città': 'Roma'}\n",
    "print(\"I valori del dizionario sono:\", my_dict.values())\n"
   ]
  },
  {
   "cell_type": "markdown",
   "id": "1747748e",
   "metadata": {},
   "source": [
    "## Stampa delle coppie chiave-valore del dizionario"
   ]
  },
  {
   "cell_type": "code",
   "execution_count": 62,
   "id": "e57c8c40",
   "metadata": {},
   "outputs": [
    {
     "name": "stdout",
     "output_type": "stream",
     "text": [
      "Le coppie chiave-valore del dizionario sono: dict_items([('nome', 'Alice'), ('età', 30), ('città', 'Roma')])\n"
     ]
    }
   ],
   "source": [
    "my_dict = {'nome': 'Alice', 'età': 30, 'città': 'Roma'}\n",
    "print(\"Le coppie chiave-valore del dizionario sono:\", my_dict.items())\n"
   ]
  },
  {
   "cell_type": "markdown",
   "id": "d97717dc",
   "metadata": {},
   "source": [
    "## Cancellazione di tutti gli elementi del dizionario"
   ]
  },
  {
   "cell_type": "code",
   "execution_count": 63,
   "id": "39239f3a",
   "metadata": {},
   "outputs": [
    {
     "name": "stdout",
     "output_type": "stream",
     "text": [
      "Il dizionario dopo la cancellazione è: {}\n"
     ]
    }
   ],
   "source": [
    "my_dict = {'nome': 'Alice', 'età': 30, 'città': 'Roma'}\n",
    "my_dict.clear()\n",
    "print(\"Il dizionario dopo la cancellazione è:\", my_dict)\n"
   ]
  },
  {
   "cell_type": "markdown",
   "id": "b6559a0e",
   "metadata": {},
   "source": [
    "## Indovina la Capitale"
   ]
  },
  {
   "cell_type": "code",
   "execution_count": 64,
   "id": "e09bfe94",
   "metadata": {},
   "outputs": [
    {
     "name": "stdout",
     "output_type": "stream",
     "text": [
      "Benvenuto a Indovina la Capitale!\n",
      "Ti verrà chiesto di indovinare la capitale di un paese.\n",
      "Inserisci 'fine' per terminare il gioco.\n",
      "\n",
      "Qual è la capitale di Francia? parigi\n",
      "Esatto! Hai indovinato la capitale.\n",
      "\n",
      "Qual è la capitale di Italia? roma\n",
      "Esatto! Hai indovinato la capitale.\n",
      "\n",
      "Qual è la capitale di Regno Unito? londra\n",
      "Esatto! Hai indovinato la capitale.\n",
      "\n",
      "Qual è la capitale di Francia? fine\n",
      "Grazie per aver giocato!\n"
     ]
    }
   ],
   "source": [
    "import random\n",
    "\n",
    "def genera_domanda(dizionario):\n",
    "    paese = random.choice(list(dizionario.keys()))\n",
    "    capitale_corretta = dizionario[paese]\n",
    "    return paese, capitale_corretta\n",
    "\n",
    "def gioca():\n",
    "    capitali = {\n",
    "        'Italia': 'Roma',\n",
    "        'Francia': 'Parigi',\n",
    "        'Germania': 'Berlino',\n",
    "        'Regno Unito': 'Londra',\n",
    "        'Spagna': 'Madrid',\n",
    "        'Portogallo': 'Lisbona',\n",
    "        'Olanda': 'Amsterdam',\n",
    "        'Svizzera': 'Berna',\n",
    "        'Belgio': 'Bruxelles',\n",
    "        'Svezia': 'Stoccolma'\n",
    "    }\n",
    "\n",
    "    print(\"Benvenuto a Indovina la Capitale!\")\n",
    "    print(\"Ti verrà chiesto di indovinare la capitale di un paese.\")\n",
    "    print(\"Inserisci 'fine' per terminare il gioco.\")\n",
    "\n",
    "    while True:\n",
    "        paese, capitale_corretta = genera_domanda(capitali)\n",
    "        risposta = input(f\"\\nQual è la capitale di {paese}? \").capitalize()\n",
    "\n",
    "        if risposta == 'Fine':\n",
    "            print(\"Grazie per aver giocato!\")\n",
    "            break\n",
    "        elif risposta == capitale_corretta:\n",
    "            print(\"Esatto! Hai indovinato la capitale.\")\n",
    "        else:\n",
    "            print(f\"Sbagliato! La capitale corretta di {paese} è {capitale_corretta}.\")\n",
    "\n",
    "gioca()\n"
   ]
  },
  {
   "cell_type": "markdown",
   "id": "3cf7ddb6",
   "metadata": {},
   "source": [
    "# Insiemi"
   ]
  },
  {
   "cell_type": "markdown",
   "id": "679688bb",
   "metadata": {},
   "source": [
    "## Insiemi in Python\n",
    "\n",
    "Gli insiemi sono una struttura dati fondamentale in Python che rappresenta una collezione non ordinata e senza duplicati di elementi. Gli insiemi sono definiti utilizzando parentesi graffe `{}` e gli elementi sono separati da virgole. Ad esempio:\n",
    "\n",
    "```python\n",
    "my_set = {1, 2, 3, 4, 5}\n",
    "```\n",
    "\n",
    "Gli insiemi sono utilizzati quando è necessario memorizzare una collezione di elementi unici e non ci interessa l'ordine in cui sono memorizzati. Possono essere utilizzati per effettuare operazioni insiemistiche come unione, intersezione, differenza e differenza simmetrica.\n",
    "\n",
    "In questa sezione, esploreremo in dettaglio le caratteristiche degli insiemi, come crearli, aggiungere o rimuovere elementi, eseguire operazioni insiemistiche e utilizzarli efficacemente nei programmi Python.\n"
   ]
  },
  {
   "cell_type": "markdown",
   "id": "d49a0512",
   "metadata": {},
   "source": [
    "## Creazione di un insieme con elementi"
   ]
  },
  {
   "cell_type": "code",
   "execution_count": 65,
   "id": "a0681566",
   "metadata": {},
   "outputs": [
    {
     "name": "stdout",
     "output_type": "stream",
     "text": [
      "{1, 2, 3, 4, 5}\n"
     ]
    }
   ],
   "source": [
    "my_set = {1, 2, 3, 4, 5}\n",
    "print(my_set)\n"
   ]
  },
  {
   "cell_type": "markdown",
   "id": "a628374a",
   "metadata": {},
   "source": [
    "## Aggiunta di un elemento a un insieme"
   ]
  },
  {
   "cell_type": "code",
   "execution_count": 66,
   "id": "a230e9cc",
   "metadata": {},
   "outputs": [
    {
     "name": "stdout",
     "output_type": "stream",
     "text": [
      "{1, 2, 3, 4}\n"
     ]
    }
   ],
   "source": [
    "my_set = {1, 2, 3}\n",
    "my_set.add(4)\n",
    "print(my_set)\n"
   ]
  },
  {
   "cell_type": "markdown",
   "id": "4c8ad86d",
   "metadata": {},
   "source": [
    "## Rimozione di un elemento da un insieme"
   ]
  },
  {
   "cell_type": "code",
   "execution_count": 67,
   "id": "7764b3ff",
   "metadata": {},
   "outputs": [
    {
     "name": "stdout",
     "output_type": "stream",
     "text": [
      "{1, 2, 4}\n"
     ]
    }
   ],
   "source": [
    "my_set = {1, 2, 3, 4}\n",
    "my_set.remove(3)\n",
    "print(my_set)\n"
   ]
  },
  {
   "cell_type": "markdown",
   "id": "7b28b758",
   "metadata": {},
   "source": [
    "## Verifica se un elemento è presente in un insieme"
   ]
  },
  {
   "cell_type": "code",
   "execution_count": 68,
   "id": "ec8e5083",
   "metadata": {},
   "outputs": [
    {
     "name": "stdout",
     "output_type": "stream",
     "text": [
      "True\n"
     ]
    }
   ],
   "source": [
    "my_set = {1, 2, 3, 4, 5}\n",
    "print(3 in my_set)\n"
   ]
  },
  {
   "cell_type": "markdown",
   "id": "217ff1f7",
   "metadata": {},
   "source": [
    "## Unione di due insiemi"
   ]
  },
  {
   "cell_type": "code",
   "execution_count": 69,
   "id": "db51e961",
   "metadata": {},
   "outputs": [
    {
     "name": "stdout",
     "output_type": "stream",
     "text": [
      "{1, 2, 3, 4, 5}\n"
     ]
    }
   ],
   "source": [
    "set1 = {1, 2, 3}\n",
    "set2 = {3, 4, 5}\n",
    "union_set = set1.union(set2)\n",
    "print(union_set)\n"
   ]
  },
  {
   "cell_type": "markdown",
   "id": "1be17636",
   "metadata": {},
   "source": [
    "## Intersezione di due insiemi"
   ]
  },
  {
   "cell_type": "code",
   "execution_count": 70,
   "id": "f6518344",
   "metadata": {},
   "outputs": [
    {
     "name": "stdout",
     "output_type": "stream",
     "text": [
      "{3}\n"
     ]
    }
   ],
   "source": [
    "set1 = {1, 2, 3}\n",
    "set2 = {3, 4, 5}\n",
    "intersection_set = set1.intersection(set2)\n",
    "print(intersection_set)\n"
   ]
  },
  {
   "cell_type": "markdown",
   "id": "d2f940fa",
   "metadata": {},
   "source": [
    "## Differenza di due insiemi"
   ]
  },
  {
   "cell_type": "code",
   "execution_count": 71,
   "id": "04098a34",
   "metadata": {},
   "outputs": [
    {
     "name": "stdout",
     "output_type": "stream",
     "text": [
      "{1, 2}\n"
     ]
    }
   ],
   "source": [
    "set1 = {1, 2, 3, 4}\n",
    "set2 = {3, 4, 5}\n",
    "difference_set = set1.difference(set2)\n",
    "print(difference_set)\n"
   ]
  },
  {
   "cell_type": "markdown",
   "id": "3d34780f",
   "metadata": {},
   "source": [
    "## Verifica se un insieme è un sottoinsieme di un altro"
   ]
  },
  {
   "cell_type": "code",
   "execution_count": 72,
   "id": "15a6e560",
   "metadata": {},
   "outputs": [
    {
     "name": "stdout",
     "output_type": "stream",
     "text": [
      "True\n"
     ]
    }
   ],
   "source": [
    "set1 = {1, 2, 3}\n",
    "set2 = {1, 2, 3, 4, 5}\n",
    "print(set1.issubset(set2))\n"
   ]
  },
  {
   "cell_type": "markdown",
   "id": "a017774b",
   "metadata": {},
   "source": [
    "## Controllo se due insiemi sono disgiunti (non hanno elementi in comune)"
   ]
  },
  {
   "cell_type": "code",
   "execution_count": 73,
   "id": "71d0a96f",
   "metadata": {},
   "outputs": [
    {
     "name": "stdout",
     "output_type": "stream",
     "text": [
      "True\n"
     ]
    }
   ],
   "source": [
    "set1 = {1, 2, 3}\n",
    "set2 = {4, 5, 6}\n",
    "disjoint_check = set1.isdisjoint(set2)\n",
    "print(disjoint_check)\n"
   ]
  },
  {
   "cell_type": "code",
   "execution_count": 74,
   "id": "5b8f350f",
   "metadata": {},
   "outputs": [
    {
     "name": "stdout",
     "output_type": "stream",
     "text": [
      "Benvenuto a Trova l'Elemento Diverso!\n",
      "Il computer ha generato casualmente due insiemi di numeri compresi tra 0 e 9.\n",
      "Uno di questi insiemi contiene un elemento diverso dall'altro.\n",
      "Devi indovinare quale.\n",
      "\n",
      "Indovina l'elemento diverso (compreso tra 0 e 9): 2\n",
      "Sbagliato! Prova di nuovo.\n",
      "\n",
      "Indovina l'elemento diverso (compreso tra 0 e 9): 0\n",
      "Sbagliato! Prova di nuovo.\n",
      "\n",
      "Indovina l'elemento diverso (compreso tra 0 e 9): 3\n",
      "Sbagliato! Prova di nuovo.\n",
      "\n",
      "Indovina l'elemento diverso (compreso tra 0 e 9): 7\n",
      "Sbagliato! Prova di nuovo.\n",
      "\n",
      "Indovina l'elemento diverso (compreso tra 0 e 9): 5\n",
      "\n",
      "Congratulazioni! Hai indovinato l'elemento diverso.\n"
     ]
    }
   ],
   "source": [
    "import random\n",
    "\n",
    "def genera_insiemi():\n",
    "    set1 = set(random.sample(range(10), 5))\n",
    "    set2 = set(random.sample(range(10), 5))\n",
    "    return set1, set2\n",
    "\n",
    "def gioca():\n",
    "    insieme1, insieme2 = genera_insiemi()\n",
    "\n",
    "    print(\"Benvenuto a Trova l'Elemento Diverso!\")\n",
    "    print(\"Il computer ha generato casualmente due insiemi di numeri compresi tra 0 e 9.\")\n",
    "    print(\"Uno di questi insiemi contiene un elemento diverso dall'altro.\")\n",
    "    print(\"Devi indovinare quale.\")\n",
    "\n",
    "    elemento_diverso = random.choice(list(insieme1.symmetric_difference(insieme2)))\n",
    "    while True:\n",
    "        try:\n",
    "            guess = input(\"\\nIndovina l'elemento diverso (compreso tra 0 e 9): \")\n",
    "            if guess.lower() == 'fine':\n",
    "                print(\"Grazie per aver giocato!\")\n",
    "                break\n",
    "            guess = int(guess)\n",
    "            if guess == elemento_diverso:\n",
    "                print(\"\\nCongratulazioni! Hai indovinato l'elemento diverso.\")\n",
    "                break\n",
    "            else:\n",
    "                print(\"Sbagliato! Prova di nuovo.\")\n",
    "        except ValueError:\n",
    "            print(\"Inserisci un numero intero compreso tra 0 e 9 o 'fine' per terminare.\")\n",
    "\n",
    "gioca()\n"
   ]
  },
  {
   "cell_type": "markdown",
   "id": "c80fa22d",
   "metadata": {},
   "source": [
    "# None"
   ]
  },
  {
   "cell_type": "markdown",
   "id": "bb106f9e",
   "metadata": {},
   "source": [
    "# None in Python\n",
    "\n",
    "In Python, None è un tipo di dato speciale che rappresenta l'assenza di un valore o un valore nullo. Non è la stessa cosa di False, 0 o una stringa vuota. None è unico nel suo genere e ha un significato specifico di \"nullità\".\n",
    "\n",
    "## Cosa sono e a cosa servono?\n",
    "\n",
    "- **Rappresentazione dell'assenza di valore:** None viene utilizzato per indicare che una variabile o un oggetto non ha un valore assegnato o che una funzione non restituisce esplicitamente un valore.\n",
    "\n",
    "- **Valore di default:** Spesso, None viene utilizzato come valore di default per i parametri di funzione o come valore iniziale per variabili che potrebbero non avere un valore immediatamente.\n",
    "\n",
    "- **Controllo di flusso:** None può essere utilizzato per controllare il flusso del programma, ad esempio in condizioni if per verificare se una variabile è None prima di procedere con ulteriori operazioni.\n",
    "\n",
    "- **Terminazione di loop:** None può essere utilizzato come segnale di uscita per terminare cicli o iterazioni in determinate condizioni.\n",
    "\n",
    "## Perché li utilizziamo?\n",
    "\n",
    "L'utilizzo di None aiuta a rendere il codice più esplicito e chiaro riguardo alla mancanza di valore o all'assenza di una situazione definita. È utile quando è necessario distinguere tra la presenza di un valore effettivo e l'assenza di un valore, evitando ambiguità nel codice.\n",
    "\n",
    "Ad esempio, quando una funzione non può restituire un valore specifico in determinate circostanze, restituirà None per indicare l'assenza di un valore anziché lasciare la variabile non definita o restituire un valore \"falso\".\n",
    "\n",
    "In sintesi, None è un'importante convenzione nel linguaggio Python per gestire situazioni in cui un valore non è presente o non è definito, contribuendo alla chiarezza e alla coerenza del codice.\n"
   ]
  },
  {
   "cell_type": "markdown",
   "id": "9c2bfe46",
   "metadata": {},
   "source": [
    "## Assegnazione di None a una variabile"
   ]
  },
  {
   "cell_type": "code",
   "execution_count": 75,
   "id": "511d7f6a",
   "metadata": {},
   "outputs": [
    {
     "name": "stdout",
     "output_type": "stream",
     "text": [
      "None\n"
     ]
    }
   ],
   "source": [
    "x = None\n",
    "print(x)  # Output: None\n"
   ]
  },
  {
   "cell_type": "markdown",
   "id": "9a9a254e",
   "metadata": {},
   "source": [
    "## Restituzione di None da una funzione"
   ]
  },
  {
   "cell_type": "code",
   "execution_count": 76,
   "id": "8f8df926",
   "metadata": {},
   "outputs": [
    {
     "name": "stdout",
     "output_type": "stream",
     "text": [
      "Questa funzione non restituisce alcun valore.\n",
      "None\n"
     ]
    }
   ],
   "source": [
    "def funzione_senza_valore():\n",
    "    print(\"Questa funzione non restituisce alcun valore.\")\n",
    "\n",
    "result = funzione_senza_valore()\n",
    "print(result)  # Output: None\n"
   ]
  },
  {
   "cell_type": "markdown",
   "id": "2bf9f069",
   "metadata": {},
   "source": [
    "## Controllo se una variabile è None"
   ]
  },
  {
   "cell_type": "code",
   "execution_count": 77,
   "id": "818ff4a6",
   "metadata": {},
   "outputs": [
    {
     "name": "stdout",
     "output_type": "stream",
     "text": [
      "La variabile x è None.\n"
     ]
    }
   ],
   "source": [
    "x = None\n",
    "if x is None:\n",
    "    print(\"La variabile x è None.\")\n",
    "else:\n",
    "    print(\"La variabile x non è None.\")\n"
   ]
  },
  {
   "cell_type": "markdown",
   "id": "16cb4eda",
   "metadata": {},
   "source": [
    "## Utilizzo di None come valore di default per un parametro di funzione"
   ]
  },
  {
   "cell_type": "code",
   "execution_count": 78,
   "id": "4607821b",
   "metadata": {},
   "outputs": [
    {
     "name": "stdout",
     "output_type": "stream",
     "text": [
      "Ciao!\n",
      "Ciao, Alice\n"
     ]
    }
   ],
   "source": [
    "def saluta(nome=None):\n",
    "    if nome is None:\n",
    "        print(\"Ciao!\")\n",
    "    else:\n",
    "        print(\"Ciao,\", nome)\n",
    "\n",
    "saluta()  # Output: Ciao!\n",
    "saluta(\"Alice\")  # Output: Ciao, Alice\n"
   ]
  },
  {
   "cell_type": "markdown",
   "id": "8818e5e1",
   "metadata": {},
   "source": [
    "## Assegnazione di None a un elemento di una lista per rimuoverlo"
   ]
  },
  {
   "cell_type": "code",
   "execution_count": 79,
   "id": "32207770",
   "metadata": {},
   "outputs": [
    {
     "name": "stdout",
     "output_type": "stream",
     "text": [
      "Lista con elemento rimosso: [1, None, 3]\n"
     ]
    }
   ],
   "source": [
    "lista = [1, 2, 3]\n",
    "lista[1] = None\n",
    "print(\"Lista con elemento rimosso:\", lista)  # Output: Lista con elemento rimosso: [1, None, 3]\n"
   ]
  },
  {
   "cell_type": "markdown",
   "id": "8d815573",
   "metadata": {},
   "source": [
    "## Utilizzo di None per indicare un valore mancante in un dizionario"
   ]
  },
  {
   "cell_type": "code",
   "execution_count": 80,
   "id": "5f201e71",
   "metadata": {},
   "outputs": [
    {
     "name": "stdout",
     "output_type": "stream",
     "text": [
      "{'nome': 'Alice', 'età': None, 'sesso': 'Femmina'}\n"
     ]
    }
   ],
   "source": [
    "info_persona = {\n",
    "    'nome': 'Alice',\n",
    "    'età': None,\n",
    "    'sesso': 'Femmina'\n",
    "}\n",
    "print(info_persona)  # Output: {'nome': 'Alice', 'età': None, 'sesso': 'Femmina'}\n"
   ]
  },
  {
   "cell_type": "markdown",
   "id": "6b0afa60",
   "metadata": {},
   "source": [
    "## Restituzione di None se la lista è vuota"
   ]
  },
  {
   "cell_type": "code",
   "execution_count": 81,
   "id": "48afaf97",
   "metadata": {},
   "outputs": [
    {
     "name": "stdout",
     "output_type": "stream",
     "text": [
      "None\n"
     ]
    }
   ],
   "source": [
    "def primo_elemento(lista):\n",
    "    if lista:\n",
    "        return lista[0]\n",
    "    else:\n",
    "        return None\n",
    "\n",
    "lista_vuota = []\n",
    "print(primo_elemento(lista_vuota))  # Output: None\n"
   ]
  },
  {
   "cell_type": "markdown",
   "id": "a86c6b58",
   "metadata": {},
   "source": [
    "## Utilizzo di None per indicare l'assenza di valore in un'operazione"
   ]
  },
  {
   "cell_type": "code",
   "execution_count": 82,
   "id": "92babb09",
   "metadata": {},
   "outputs": [
    {
     "name": "stdout",
     "output_type": "stream",
     "text": [
      "Impossibile eseguire l'operazione perché y è None.\n"
     ]
    }
   ],
   "source": [
    "x = 5\n",
    "y = None\n",
    "\n",
    "if y is not None:\n",
    "    z = x + y\n",
    "    print(z)\n",
    "else:\n",
    "    print(\"Impossibile eseguire l'operazione perché y è None.\")\n"
   ]
  },
  {
   "cell_type": "markdown",
   "id": "a4161220",
   "metadata": {},
   "source": [
    "## Ricerca di un elemento in una lista e restituzione della sua posizione o None se non trovato"
   ]
  },
  {
   "cell_type": "code",
   "execution_count": 83,
   "id": "b86db7d9",
   "metadata": {},
   "outputs": [
    {
     "name": "stdout",
     "output_type": "stream",
     "text": [
      "Posizione dell'elemento: 2\n"
     ]
    }
   ],
   "source": [
    "def trova_posizione(oggetto, lista):\n",
    "    for i, elem in enumerate(lista):\n",
    "        if elem == oggetto:\n",
    "            return i\n",
    "    return None\n",
    "\n",
    "numeri = [10, 20, 30, 40, 50]\n",
    "posizione = trova_posizione(30, numeri)\n",
    "print(\"Posizione dell'elemento:\", posizione)  # Output: Posizione dell'elemento: 2\n"
   ]
  },
  {
   "cell_type": "markdown",
   "id": "3f189f1a",
   "metadata": {},
   "source": [
    "## La ricerca del tesoro perduto"
   ]
  },
  {
   "cell_type": "code",
   "execution_count": 84,
   "id": "ffb3a5f4",
   "metadata": {},
   "outputs": [
    {
     "name": "stdout",
     "output_type": "stream",
     "text": [
      "Benvenuto a La Ricerca del Tesoro Perduto!\n",
      "Trova il tesoro navigando attraverso l'isola misteriosa.\n",
      "Per muoverti, inserisci una direzione (Nord, Est, Sud, Ovest) oppure 'Fine' per terminare.\n",
      "Il tesoro è nascosto in una posizione casuale sull'isola. Inizia a cercare!\n",
      "Inserisci la tua prossima mossa: sud\n",
      "Sei freddo. Il tesoro è molto lontano.\n",
      "Il tesoro è rimasto nascosto. Meglio fortuna la prossima volta!\n",
      "Inserisci la tua prossima mossa: sud\n",
      "Sei freddo. Il tesoro è molto lontano.\n",
      "Sei freddo. Il tesoro è molto lontano.\n",
      "Il tesoro è rimasto nascosto. Meglio fortuna la prossima volta!\n",
      "Inserisci la tua prossima mossa: fine\n",
      "Grazie per aver giocato!\n"
     ]
    }
   ],
   "source": [
    "import random\n",
    "\n",
    "def genera_posizione_tesoro():\n",
    "    x = random.randint(0, 9)\n",
    "    y = random.randint(0, 9)\n",
    "    return [x, y]\n",
    "\n",
    "def calcola_distanza(posizione, tesoro):\n",
    "    distanza_x = abs(tesoro[0] - posizione[0])\n",
    "    distanza_y = abs(tesoro[1] - posizione[1])\n",
    "    return distanza_x + distanza_y\n",
    "\n",
    "def trova_direzione(movimenti, tesoro):\n",
    "    direzioni = {\n",
    "        'nord': (0, 1),\n",
    "        'est': (1, 0),\n",
    "        'sud': (0, -1),\n",
    "        'ovest': (-1, 0),\n",
    "        'fine': (0, 0)\n",
    "    }\n",
    "\n",
    "    posizione = [0, 0]\n",
    "\n",
    "    for movimento in movimenti:\n",
    "        movimento = movimento.lower()  # Converti l'input in minuscolo\n",
    "        if movimento in direzioni:\n",
    "            delta_x, delta_y = direzioni[movimento]\n",
    "            posizione[0] += delta_x\n",
    "            posizione[1] += delta_y\n",
    "\n",
    "            distanza = calcola_distanza(posizione, tesoro)\n",
    "            if distanza == 0:\n",
    "                print(\"Congratulazioni! Hai trovato il tesoro!\")\n",
    "                return\n",
    "            elif distanza == 1:\n",
    "                print(\"Fuoco fuochino fuocobene! Sei vicino al tesoro.\")\n",
    "            elif distanza == 2:\n",
    "                print(\"Fuoco! Sei abbastanza vicino al tesoro.\")\n",
    "            elif distanza <= 5:\n",
    "                print(\"Sei caldo! Il tesoro non è lontano.\")\n",
    "            elif distanza <= 8:\n",
    "                print(\"Acqua! Sei un po' lontano dal tesoro.\")\n",
    "            else:\n",
    "                print(\"Sei freddo. Il tesoro è molto lontano.\")\n",
    "\n",
    "        else:\n",
    "            print(\"Movimento non valido. Inserisci una direzione valida (Nord, Est, Sud, Ovest) oppure 'Fine' per terminare.\")\n",
    "\n",
    "    print(\"Il tesoro è rimasto nascosto. Meglio fortuna la prossima volta!\")\n",
    "\n",
    "def main():\n",
    "    print(\"Benvenuto a La Ricerca del Tesoro Perduto!\")\n",
    "    print(\"Trova il tesoro navigando attraverso l'isola misteriosa.\")\n",
    "    print(\"Per muoverti, inserisci una direzione (Nord, Est, Sud, Ovest) oppure 'Fine' per terminare.\")\n",
    "\n",
    "    tesoro = genera_posizione_tesoro()\n",
    "    print(\"Il tesoro è nascosto in una posizione casuale sull'isola. Inizia a cercare!\")\n",
    "\n",
    "    movimenti = []\n",
    "    while True:\n",
    "        movimento = input(\"Inserisci la tua prossima mossa: \")\n",
    "        if movimento.lower() == 'fine':\n",
    "            print(\"Grazie per aver giocato!\")\n",
    "            break\n",
    "        movimenti.append(movimento)\n",
    "        trova_direzione(movimenti, tesoro)\n",
    "\n",
    "if __name__ == \"__main__\":\n",
    "    main()\n"
   ]
  },
  {
   "cell_type": "markdown",
   "id": "51d5ad2b",
   "metadata": {},
   "source": [
    "# Booleani"
   ]
  },
  {
   "cell_type": "markdown",
   "id": "920ea674",
   "metadata": {},
   "source": [
    "## Introduzione ai Booleani\n",
    "\n",
    "I booleani sono un tipo di dato fondamentale in programmazione che rappresenta una condizione di verità o falsità. In Python, i booleani sono rappresentati dai valori predefiniti `True` e `False`.\n",
    "\n",
    "### Utilità dei Booleani\n",
    "\n",
    "I booleani sono estremamente utili perché consentono ai programmatori di gestire il flusso del programma attraverso l'uso di istruzioni condizionali. Le istruzioni condizionali permettono al programma di eseguire determinate azioni solo se una determinata condizione è vera (True), altrimenti può eseguire un'altra azione.\n",
    "\n",
    "Ad esempio, in un'istruzione `if`, il programma eseguirà un blocco di codice solo se la condizione specificata è vera:\n",
    "\n",
    "```python\n",
    "x = 5\n",
    "y = 10\n",
    "\n",
    "if x < y:\n",
    "    print(\"x è minore di y\")\n",
    "else:\n",
    "    print(\"x non è minore di y\")\n"
   ]
  },
  {
   "cell_type": "markdown",
   "id": "a92bcd2f",
   "metadata": {},
   "source": [
    "## Confronto tra stringhe"
   ]
  },
  {
   "cell_type": "code",
   "execution_count": 14,
   "id": "f55e698a",
   "metadata": {},
   "outputs": [
    {
     "name": "stdout",
     "output_type": "stream",
     "text": [
      "Le stringhe sono uguali? True\n"
     ]
    }
   ],
   "source": [
    "stringa1 = \"ciao\"\n",
    "stringa2 = \"CIAO\"\n",
    "sono_uguali = stringa1.lower() == stringa2.lower()\n",
    "print(\"Le stringhe sono uguali?\", sono_uguali)\n"
   ]
  },
  {
   "cell_type": "markdown",
   "id": "738409a7",
   "metadata": {},
   "source": [
    "## Controllo della lunghezza di una lista"
   ]
  },
  {
   "cell_type": "code",
   "execution_count": 13,
   "id": "4e1e2c7a",
   "metadata": {},
   "outputs": [
    {
     "name": "stdout",
     "output_type": "stream",
     "text": [
      "La lista è vuota? False\n"
     ]
    }
   ],
   "source": [
    "lista = [1, 2, 3, 4, 5]\n",
    "è_vuota = len(lista) == 0\n",
    "print(\"La lista è vuota?\", è_vuota)\n"
   ]
  },
  {
   "cell_type": "markdown",
   "id": "fbeac58f",
   "metadata": {},
   "source": [
    "## Verifica se un valore è incluso in una lista"
   ]
  },
  {
   "cell_type": "code",
   "execution_count": 11,
   "id": "7069c3ba",
   "metadata": {},
   "outputs": [
    {
     "name": "stdout",
     "output_type": "stream",
     "text": [
      "Il valore è incluso nella lista? True\n"
     ]
    }
   ],
   "source": [
    "valore = 3\n",
    "lista = [1, 2, 3, 4, 5]\n",
    "è_incluso = valore in lista\n",
    "print(\"Il valore è incluso nella lista?\", è_incluso) "
   ]
  },
  {
   "cell_type": "markdown",
   "id": "82bc9743",
   "metadata": {},
   "source": [
    "## Controllo di più condizioni"
   ]
  },
  {
   "cell_type": "code",
   "execution_count": 12,
   "id": "b5b36533",
   "metadata": {},
   "outputs": [
    {
     "name": "stdout",
     "output_type": "stream",
     "text": [
      "La condizione è vera? True\n"
     ]
    }
   ],
   "source": [
    "x = 5\n",
    "y = 10\n",
    "condizione = x < y and y > 0\n",
    "print(\"La condizione è vera?\", condizione)\n"
   ]
  },
  {
   "cell_type": "markdown",
   "id": "46c22878",
   "metadata": {},
   "source": [
    "## Confronto tra numeri"
   ]
  },
  {
   "cell_type": "code",
   "execution_count": 10,
   "id": "e93e4571",
   "metadata": {},
   "outputs": [
    {
     "name": "stdout",
     "output_type": "stream",
     "text": [
      "a è maggiore di b? False\n"
     ]
    }
   ],
   "source": [
    "a = 10\n",
    "b = 15\n",
    "è_maggiore = a > b\n",
    "print(\"a è maggiore di b?\", è_maggiore)"
   ]
  },
  {
   "cell_type": "markdown",
   "id": "fba6a104",
   "metadata": {},
   "source": [
    "## Confronto tra liste"
   ]
  },
  {
   "cell_type": "code",
   "execution_count": 9,
   "id": "dabc51cc",
   "metadata": {},
   "outputs": [
    {
     "name": "stdout",
     "output_type": "stream",
     "text": [
      "Le liste sono uguali? True\n"
     ]
    }
   ],
   "source": [
    "lista1 = [1, 2, 3]\n",
    "lista2 = [1, 2, 3]\n",
    "sono_uguali = lista1 == lista2\n",
    "print(\"Le liste sono uguali?\", sono_uguali) \n"
   ]
  },
  {
   "cell_type": "markdown",
   "id": "3e48fe4b",
   "metadata": {},
   "source": [
    "## Controllo della presenza di almeno un elemento vero in una lista"
   ]
  },
  {
   "cell_type": "code",
   "execution_count": 8,
   "id": "dbdbcbc4",
   "metadata": {},
   "outputs": [
    {
     "name": "stdout",
     "output_type": "stream",
     "text": [
      "C'è almeno un True nella lista? True\n"
     ]
    }
   ],
   "source": [
    "valori = [False, False, True, False]\n",
    "almeno_un_true = any(valori)\n",
    "print(\"C'è almeno un True nella lista?\", almeno_un_true)\n"
   ]
  },
  {
   "cell_type": "markdown",
   "id": "776fd410",
   "metadata": {},
   "source": [
    "## Verifica se una variabile è assegnata"
   ]
  },
  {
   "cell_type": "code",
   "execution_count": 15,
   "id": "fad52ed4",
   "metadata": {},
   "outputs": [
    {
     "name": "stdout",
     "output_type": "stream",
     "text": [
      "La variabile è assegnata? False\n"
     ]
    }
   ],
   "source": [
    "variabile = None\n",
    "è_assegnata = variabile is not None\n",
    "print(\"La variabile è assegnata?\", è_assegnata)\n"
   ]
  },
  {
   "cell_type": "markdown",
   "id": "919ec509",
   "metadata": {},
   "source": [
    "## Verifica se una lista contiene solo valori interi"
   ]
  },
  {
   "cell_type": "code",
   "execution_count": 16,
   "id": "219652ae",
   "metadata": {},
   "outputs": [
    {
     "name": "stdout",
     "output_type": "stream",
     "text": [
      "La lista contiene solo valori interi? False\n"
     ]
    }
   ],
   "source": [
    "lista = [1, 2, 3, \"quattro\", 5]\n",
    "solo_interi = all(isinstance(x, int) for x in lista)\n",
    "print(\"La lista contiene solo valori interi?\", solo_interi)\n"
   ]
  },
  {
   "cell_type": "markdown",
   "id": "3276283d",
   "metadata": {},
   "source": [
    "## Controllo della presenza di almeno un valore negativo in una lista"
   ]
  },
  {
   "cell_type": "code",
   "execution_count": 17,
   "id": "9618d594",
   "metadata": {},
   "outputs": [
    {
     "name": "stdout",
     "output_type": "stream",
     "text": [
      "La lista contiene almeno un valore negativo? True\n"
     ]
    }
   ],
   "source": [
    "valori = [2, 4, -3, 6, 8]\n",
    "ha_negativi = any(x < 0 for x in valori)\n",
    "print(\"La lista contiene almeno un valore negativo?\", ha_negativi)\n"
   ]
  },
  {
   "cell_type": "markdown",
   "id": "2658a4a5",
   "metadata": {},
   "source": [
    "## Confronto tra stringhe"
   ]
  },
  {
   "cell_type": "code",
   "execution_count": 18,
   "id": "0be757a7",
   "metadata": {},
   "outputs": [
    {
     "name": "stdout",
     "output_type": "stream",
     "text": [
      "La stringa1 è maggiore della stringa2? True\n"
     ]
    }
   ],
   "source": [
    "stringa1 = \"python\"\n",
    "stringa2 = \"java\"\n",
    "è_maggiore = stringa1 > stringa2\n",
    "print(\"La stringa1 è maggiore della stringa2?\", è_maggiore)\n"
   ]
  },
  {
   "cell_type": "markdown",
   "id": "3559ea3e",
   "metadata": {},
   "source": [
    "## Verifica se una variabile è di tipo stringa"
   ]
  },
  {
   "cell_type": "code",
   "execution_count": 19,
   "id": "8ed6095f",
   "metadata": {},
   "outputs": [
    {
     "name": "stdout",
     "output_type": "stream",
     "text": [
      "La variabile è di tipo stringa? True\n"
     ]
    }
   ],
   "source": [
    "variabile = \"hello\"\n",
    "è_stringa = isinstance(variabile, str)\n",
    "print(\"La variabile è di tipo stringa?\", è_stringa)"
   ]
  },
  {
   "cell_type": "markdown",
   "id": "91595f49",
   "metadata": {},
   "source": [
    "## Indovina il Colore"
   ]
  },
  {
   "cell_type": "code",
   "execution_count": 21,
   "id": "d1df3452",
   "metadata": {},
   "outputs": [
    {
     "name": "stdout",
     "output_type": "stream",
     "text": [
      "Benvenuto a Indovina il Colore!\n",
      "Il computer ha scelto un colore tra rosso, verde, blu, giallo, arancione e viola.\n",
      "\n",
      "Indovina il colore: verde\n",
      "Sbagliato! Prova di nuovo.\n",
      "Vuoi continuare a giocare? (sì/no): sì\n",
      "\n",
      "Indovina il colore: viola\n",
      "Sbagliato! Prova di nuovo.\n",
      "Vuoi continuare a giocare? (sì/no): sì\n",
      "\n",
      "Indovina il colore: \n",
      "Inserisci un colore valido tra rosso, verde, blu, giallo, arancione e viola.\n",
      "\n",
      "Indovina il colore: blu\n",
      "Sbagliato! Prova di nuovo.\n",
      "Vuoi continuare a giocare? (sì/no): sì\n",
      "\n",
      "Indovina il colore: giallo\n",
      "Sbagliato! Prova di nuovo.\n",
      "Vuoi continuare a giocare? (sì/no): sì\n",
      "\n",
      "Indovina il colore: rosso\n",
      "Sbagliato! Prova di nuovo.\n",
      "Vuoi continuare a giocare? (sì/no): no\n",
      "Grazie per aver giocato!\n"
     ]
    }
   ],
   "source": [
    "import random\n",
    "\n",
    "def scegli_colore():\n",
    "    colori = [\"rosso\", \"verde\", \"blu\", \"giallo\", \"arancione\", \"viola\"]\n",
    "    return random.choice(colori)\n",
    "\n",
    "def gioca():\n",
    "    print(\"Benvenuto a Indovina il Colore!\")\n",
    "    print(\"Il computer ha scelto un colore tra rosso, verde, blu, giallo, arancione e viola.\")\n",
    "    \n",
    "    colore_scelto = scegli_colore()\n",
    "    while True:\n",
    "        guess = input(\"\\nIndovina il colore: \").lower()\n",
    "        if guess not in [\"rosso\", \"verde\", \"blu\", \"giallo\", \"arancione\", \"viola\"]:\n",
    "            print(\"Inserisci un colore valido tra rosso, verde, blu, giallo, arancione e viola.\")\n",
    "            continue\n",
    "        \n",
    "        if guess == colore_scelto:\n",
    "            print(\"Complimenti! Hai indovinato il colore.\")\n",
    "            break\n",
    "        else:\n",
    "            print(\"Sbagliato! Prova di nuovo.\")\n",
    "\n",
    "        continua = input(\"Vuoi continuare a giocare? (sì/no): \").lower()\n",
    "        if continua != \"sì\":\n",
    "            print(\"Grazie per aver giocato!\")\n",
    "            break\n",
    "\n",
    "gioca()\n"
   ]
  },
  {
   "cell_type": "markdown",
   "id": "99faecbd",
   "metadata": {},
   "source": [
    "## Calcolo distanza fra 2 punti nel piano cartesiano"
   ]
  },
  {
   "cell_type": "code",
   "execution_count": 27,
   "id": "afa3597c",
   "metadata": {},
   "outputs": [
    {
     "name": "stdout",
     "output_type": "stream",
     "text": [
      "Inserisci la coordinata x del primo punto: 4.0\n",
      "Inserisci la coordinata y del primo punto: -7.3\n",
      "Inserisci la coordinata x del secondo punto: 6.0\n",
      "Inserisci la coordinata y del secondo punto: 1.0\n",
      "La distanza tra (4.0, -7.3) e (6.0, 1.0) è: 8.537564055396599\n"
     ]
    }
   ],
   "source": [
    "import math\n",
    "\n",
    "def calcola_distanza(p1, p2):\n",
    "    x1, y1 = p1\n",
    "    x2, y2 = p2\n",
    "    distanza = math.sqrt((x2 - x1) ** 2 + (y2 - y1) ** 2)\n",
    "    return distanza\n",
    "\n",
    "def inserisci_coordinate():\n",
    "    x1 = float(input(\"Inserisci la coordinata x del primo punto: \"))\n",
    "    y1 = float(input(\"Inserisci la coordinata y del primo punto: \"))\n",
    "    x2 = float(input(\"Inserisci la coordinata x del secondo punto: \"))\n",
    "    y2 = float(input(\"Inserisci la coordinata y del secondo punto: \"))\n",
    "    return (x1, y1), (x2, y2)\n",
    "\n",
    "# Esempio di utilizzo della funzione\n",
    "punto1, punto2 = inserisci_coordinate()\n",
    "distanza = calcola_distanza(punto1, punto2)\n",
    "print(\"La distanza tra\", punto1, \"e\", punto2, \"è:\", distanza)\n"
   ]
  }
 ],
 "metadata": {
  "kernelspec": {
   "display_name": "Python 3 (ipykernel)",
   "language": "python",
   "name": "python3"
  },
  "language_info": {
   "codemirror_mode": {
    "name": "ipython",
    "version": 3
   },
   "file_extension": ".py",
   "mimetype": "text/x-python",
   "name": "python",
   "nbconvert_exporter": "python",
   "pygments_lexer": "ipython3",
   "version": "3.11.5"
  }
 },
 "nbformat": 4,
 "nbformat_minor": 5
}
